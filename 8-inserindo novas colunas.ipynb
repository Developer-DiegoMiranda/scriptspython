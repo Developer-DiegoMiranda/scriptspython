{
 "cells": [
  {
   "cell_type": "code",
   "execution_count": null,
   "metadata": {},
   "outputs": [],
   "source": [
    "import pandas as pd\n",
    "import numpy as np\n",
    "df = pd.read_csv(r\"\\\\10\\usuarios$\\7035\\Desktop\\Backup Diego\\Funcional\\2023_Csv\\Funcional_Despesas_012023.csv\", delimiter=',')\n",
    "df.head(2)"
   ]
  },
  {
   "cell_type": "code",
   "execution_count": 5,
   "metadata": {},
   "outputs": [
    {
     "data": {
      "text/html": [
       "<div>\n",
       "<style scoped>\n",
       "    .dataframe tbody tr th:only-of-type {\n",
       "        vertical-align: middle;\n",
       "    }\n",
       "\n",
       "    .dataframe tbody tr th {\n",
       "        vertical-align: top;\n",
       "    }\n",
       "\n",
       "    .dataframe thead th {\n",
       "        text-align: right;\n",
       "    }\n",
       "</style>\n",
       "<table border=\"1\" class=\"dataframe\">\n",
       "  <thead>\n",
       "    <tr style=\"text-align: right;\">\n",
       "      <th></th>\n",
       "      <th>CD_EMPRESA</th>\n",
       "      <th>CD_ARQUIVO</th>\n",
       "      <th>CONTRATO_USUARIO</th>\n",
       "      <th>USUARIO</th>\n",
       "      <th>DEPENDENCIA</th>\n",
       "      <th>CD_PLANO</th>\n",
       "      <th>CD_PRESTADOR_EXECUTOR</th>\n",
       "      <th>TP_REDE</th>\n",
       "      <th>NM_ESPECIALIDADE</th>\n",
       "      <th>DOCUMENTO</th>\n",
       "      <th>...</th>\n",
       "      <th>VL_COPARTICIPACAO</th>\n",
       "      <th>TP_PART_PRESTADOR</th>\n",
       "      <th>CID10</th>\n",
       "      <th>INTER_COSP_TRANSF</th>\n",
       "      <th>PRESTADOR_SOLIC</th>\n",
       "      <th>DT_PAGAMENTO</th>\n",
       "      <th>TP_EVENTO</th>\n",
       "      <th>SERVICO_ORIGINAL</th>\n",
       "      <th>DS_SERV_ORIGINAL</th>\n",
       "      <th>DRG</th>\n",
       "    </tr>\n",
       "  </thead>\n",
       "  <tbody>\n",
       "    <tr>\n",
       "      <th>0</th>\n",
       "      <td>222</td>\n",
       "      <td>5</td>\n",
       "      <td>4429</td>\n",
       "      <td>2223159000126017</td>\n",
       "      <td>1</td>\n",
       "      <td>260</td>\n",
       "      <td>75</td>\n",
       "      <td>1</td>\n",
       "      <td>NaN</td>\n",
       "      <td>1</td>\n",
       "      <td>...</td>\n",
       "      <td>65.0</td>\n",
       "      <td>NaN</td>\n",
       "      <td>NaN</td>\n",
       "      <td>N</td>\n",
       "      <td>10018531</td>\n",
       "      <td>15/02/2023</td>\n",
       "      <td>O</td>\n",
       "      <td>10101012</td>\n",
       "      <td>Consulta Em Consultorio (No Horario Normal Ou ...</td>\n",
       "      <td>NaN</td>\n",
       "    </tr>\n",
       "    <tr>\n",
       "      <th>1</th>\n",
       "      <td>222</td>\n",
       "      <td>5</td>\n",
       "      <td>5247</td>\n",
       "      <td>2222455001037019</td>\n",
       "      <td>1</td>\n",
       "      <td>257</td>\n",
       "      <td>75</td>\n",
       "      <td>1</td>\n",
       "      <td>NaN</td>\n",
       "      <td>1</td>\n",
       "      <td>...</td>\n",
       "      <td>65.0</td>\n",
       "      <td>NaN</td>\n",
       "      <td>NaN</td>\n",
       "      <td>N</td>\n",
       "      <td>10018531</td>\n",
       "      <td>15/02/2023</td>\n",
       "      <td>O</td>\n",
       "      <td>10101012</td>\n",
       "      <td>Consulta Em Consultorio (No Horario Normal Ou ...</td>\n",
       "      <td>NaN</td>\n",
       "    </tr>\n",
       "    <tr>\n",
       "      <th>2</th>\n",
       "      <td>222</td>\n",
       "      <td>5</td>\n",
       "      <td>5247</td>\n",
       "      <td>2222455000951000</td>\n",
       "      <td>0</td>\n",
       "      <td>257</td>\n",
       "      <td>75</td>\n",
       "      <td>1</td>\n",
       "      <td>NaN</td>\n",
       "      <td>1</td>\n",
       "      <td>...</td>\n",
       "      <td>65.0</td>\n",
       "      <td>NaN</td>\n",
       "      <td>NaN</td>\n",
       "      <td>N</td>\n",
       "      <td>10018531</td>\n",
       "      <td>15/02/2023</td>\n",
       "      <td>O</td>\n",
       "      <td>10101012</td>\n",
       "      <td>Consulta Em Consultorio (No Horario Normal Ou ...</td>\n",
       "      <td>NaN</td>\n",
       "    </tr>\n",
       "  </tbody>\n",
       "</table>\n",
       "<p>3 rows × 29 columns</p>\n",
       "</div>"
      ],
      "text/plain": [
       "   CD_EMPRESA  CD_ARQUIVO  CONTRATO_USUARIO           USUARIO  DEPENDENCIA  \\\n",
       "0         222           5              4429  2223159000126017            1   \n",
       "1         222           5              5247  2222455001037019            1   \n",
       "2         222           5              5247  2222455000951000            0   \n",
       "\n",
       "   CD_PLANO  CD_PRESTADOR_EXECUTOR  TP_REDE  NM_ESPECIALIDADE  DOCUMENTO  ...  \\\n",
       "0       260                     75        1               NaN          1  ...   \n",
       "1       257                     75        1               NaN          1  ...   \n",
       "2       257                     75        1               NaN          1  ...   \n",
       "\n",
       "   VL_COPARTICIPACAO  TP_PART_PRESTADOR  CID10  INTER_COSP_TRANSF  \\\n",
       "0               65.0                NaN    NaN                  N   \n",
       "1               65.0                NaN    NaN                  N   \n",
       "2               65.0                NaN    NaN                  N   \n",
       "\n",
       "   PRESTADOR_SOLIC  DT_PAGAMENTO TP_EVENTO SERVICO_ORIGINAL  \\\n",
       "0         10018531    15/02/2023         O         10101012   \n",
       "1         10018531    15/02/2023         O         10101012   \n",
       "2         10018531    15/02/2023         O         10101012   \n",
       "\n",
       "                                    DS_SERV_ORIGINAL  DRG  \n",
       "0  Consulta Em Consultorio (No Horario Normal Ou ...  NaN  \n",
       "1  Consulta Em Consultorio (No Horario Normal Ou ...  NaN  \n",
       "2  Consulta Em Consultorio (No Horario Normal Ou ...  NaN  \n",
       "\n",
       "[3 rows x 29 columns]"
      ]
     },
     "execution_count": 5,
     "metadata": {},
     "output_type": "execute_result"
    }
   ],
   "source": [
    "df['DOCUMENTO'] = 1\n",
    "df.head(3)"
   ]
  },
  {
   "cell_type": "code",
   "execution_count": 13,
   "metadata": {},
   "outputs": [
    {
     "name": "stdout",
     "output_type": "stream",
     "text": [
      "0    2223159000130446\n",
      "1    2222455001042266\n",
      "2    2222455000956247\n",
      "Name: CONCAT, dtype: int64\n"
     ]
    }
   ],
   "source": [
    "# Concatenando as colunas 'USUARIO' e 'CONTRATO_USUARIO' e armazenando o resultado na coluna 'CONCAT'\n",
    "df['CONCAT'] = df['USUARIO'] + df['CONTRATO_USUARIO']\n",
    "\n",
    "# Exibindo os três primeiros valores da nova coluna 'CONCAT'\n",
    "print(df['CONCAT'].head(3))"
   ]
  },
  {
   "cell_type": "code",
   "execution_count": 16,
   "metadata": {},
   "outputs": [
    {
     "data": {
      "text/plain": [
       "0    15/02/2023\n",
       "1    15/02/2023\n",
       "2    15/02/2023\n",
       "Name: DT_PAGAMENTO, dtype: object"
      ]
     },
     "execution_count": 16,
     "metadata": {},
     "output_type": "execute_result"
    }
   ],
   "source": [
    "df['DT_PAGAMENTO'].head(3)"
   ]
  },
  {
   "cell_type": "code",
   "execution_count": 23,
   "metadata": {},
   "outputs": [
    {
     "name": "stdout",
     "output_type": "stream",
     "text": [
      "  MES   ANO\n",
      "0  02  2023\n",
      "1  02  2023\n",
      "2  02  2023\n"
     ]
    }
   ],
   "source": [
    "# Adicionar coluna com o ano\n",
    "# Dividindo a string da coluna 'DT_PAGAMENTO' pelo caractere \"/\" e pegando o segundo e terceiro elementos (mês e ano)\n",
    "df['MES'] = df['DT_PAGAMENTO'].str.split('/').str[1]\n",
    "df['ANO'] = df['DT_PAGAMENTO'].str.split('/').str[2]\n",
    "\n",
    "# Exibindo as três primeiras linhas das novas colunas 'MES' e 'ANO'\n",
    "print(df[['MES', 'ANO']].head(3))"
   ]
  },
  {
   "cell_type": "code",
   "execution_count": 24,
   "metadata": {},
   "outputs": [
    {
     "name": "stdout",
     "output_type": "stream",
     "text": [
      "0    15\n",
      "1    15\n",
      "2    15\n",
      "Name: DIA, dtype: object\n"
     ]
    }
   ],
   "source": [
    "# Dividindo a string da coluna 'DT_PAGAMENTO' pelo caractere \"/\" e pegando o primeiro elemento (dia)\n",
    "df['DIA'] = df['DT_PAGAMENTO'].str.split('/').str[0]\n",
    "\n",
    "# Exibindo as três primeiras linhas da nova coluna 'DIA'\n",
    "print(df['DIA'].head(3))"
   ]
  },
  {
   "cell_type": "code",
   "execution_count": 30,
   "metadata": {},
   "outputs": [
    {
     "name": "stdout",
     "output_type": "stream",
     "text": [
      "0    fevereiro\n",
      "1    fevereiro\n",
      "2    fevereiro\n",
      "Name: NOMEMES, dtype: object\n"
     ]
    }
   ],
   "source": [
    "# Definindo os nomes dos meses em português\n",
    "meses = ['janeiro', 'fevereiro', 'março', 'abril', 'maio', 'junho',\n",
    "         'julho', 'agosto', 'setembro', 'outubro', 'novembro', 'dezembro']\n",
    "\n",
    "# Removendo os valores ausentes na coluna 'DT_PAGAMENTO'\n",
    "df = df.dropna(subset=['DT_PAGAMENTO'])\n",
    "\n",
    "# Dividindo a string da coluna 'DT_PAGAMENTO' pelo caractere \"/\" e pegando o segundo elemento (mês)\n",
    "df['MES'] = df['DT_PAGAMENTO'].str.split('/').str[1]\n",
    "\n",
    "# Convertendo o mês para inteiro e mapeando para o nome do mês em português\n",
    "df['NOMEMES'] = df['MES'].apply(lambda x: meses[int(x) - 1] if pd.notnull(x) and x.isdigit() else np.nan)\n",
    "\n",
    "# Exibindo as três primeiras linhas da nova coluna 'NOMEMES'\n",
    "print(df['NOMEMES'].head(3))"
   ]
  },
  {
   "cell_type": "code",
   "execution_count": null,
   "metadata": {},
   "outputs": [],
   "source": [
    "#Filtro\n",
    "Ano2023 = df.loc[df['ANO'] == 2023]\n",
    "Ano2023\n"
   ]
  }
 ],
 "metadata": {
  "kernelspec": {
   "display_name": "Python 3",
   "language": "python",
   "name": "python3"
  },
  "language_info": {
   "codemirror_mode": {
    "name": "ipython",
    "version": 3
   },
   "file_extension": ".py",
   "mimetype": "text/x-python",
   "name": "python",
   "nbconvert_exporter": "python",
   "pygments_lexer": "ipython3",
   "version": "3.11.4"
  },
  "orig_nbformat": 4
 },
 "nbformat": 4,
 "nbformat_minor": 2
}
