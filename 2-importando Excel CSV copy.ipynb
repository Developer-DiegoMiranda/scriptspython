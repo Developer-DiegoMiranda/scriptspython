{
 "cells": [
  {
   "cell_type": "code",
   "execution_count": null,
   "metadata": {},
   "outputs": [],
   "source": [
    "\n",
    "\"\"\"\n",
    "pip install pandas\n",
    "pip install --upgrade pandas\n",
    "\"\"\""
   ]
  },
  {
   "cell_type": "code",
   "execution_count": 1,
   "metadata": {},
   "outputs": [],
   "source": [
    "import pandas as pd"
   ]
  },
  {
   "cell_type": "code",
   "execution_count": 3,
   "metadata": {},
   "outputs": [
    {
     "name": "stderr",
     "output_type": "stream",
     "text": [
      "C:\\Users\\107035\\AppData\\Local\\Temp\\ipykernel_6684\\887929391.py:1: DtypeWarning: Columns (9,17) have mixed types. Specify dtype option on import or set low_memory=False.\n",
      "  df = pd.read_csv(r\"\\\\10.8.0.37\\usuarios$\\107035\\Desktop\\Backup Diego\\Funcional\\2023_Csv\\Funcional_Despesas_012023.csv\",delimiter=',')\n"
     ]
    },
    {
     "data": {
      "text/html": [
       "<div>\n",
       "<style scoped>\n",
       "    .dataframe tbody tr th:only-of-type {\n",
       "        vertical-align: middle;\n",
       "    }\n",
       "\n",
       "    .dataframe tbody tr th {\n",
       "        vertical-align: top;\n",
       "    }\n",
       "\n",
       "    .dataframe thead th {\n",
       "        text-align: right;\n",
       "    }\n",
       "</style>\n",
       "<table border=\"1\" class=\"dataframe\">\n",
       "  <thead>\n",
       "    <tr style=\"text-align: right;\">\n",
       "      <th></th>\n",
       "      <th>CD_EMPRESA</th>\n",
       "      <th>CD_ARQUIVO</th>\n",
       "      <th>CONTRATO_USUARIO</th>\n",
       "      <th>USUARIO</th>\n",
       "      <th>DEPENDENCIA</th>\n",
       "      <th>CD_PLANO</th>\n",
       "      <th>CD_PRESTADOR_EXECUTOR</th>\n",
       "      <th>TP_REDE</th>\n",
       "      <th>NM_ESPECIALIDADE</th>\n",
       "      <th>DOCUMENTO</th>\n",
       "      <th>...</th>\n",
       "      <th>VL_COPARTICIPACAO</th>\n",
       "      <th>TP_PART_PRESTADOR</th>\n",
       "      <th>CID10</th>\n",
       "      <th>INTER_COSP_TRANSF</th>\n",
       "      <th>PRESTADOR_SOLIC</th>\n",
       "      <th>DT_PAGAMENTO</th>\n",
       "      <th>TP_EVENTO</th>\n",
       "      <th>SERVICO_ORIGINAL</th>\n",
       "      <th>DS_SERV_ORIGINAL</th>\n",
       "      <th>DRG</th>\n",
       "    </tr>\n",
       "  </thead>\n",
       "  <tbody>\n",
       "    <tr>\n",
       "      <th>0</th>\n",
       "      <td>222</td>\n",
       "      <td>5</td>\n",
       "      <td>4429</td>\n",
       "      <td>2223159000126017</td>\n",
       "      <td>1</td>\n",
       "      <td>260</td>\n",
       "      <td>75</td>\n",
       "      <td>1</td>\n",
       "      <td>NaN</td>\n",
       "      <td>10357145</td>\n",
       "      <td>...</td>\n",
       "      <td>65.0</td>\n",
       "      <td>NaN</td>\n",
       "      <td>NaN</td>\n",
       "      <td>N</td>\n",
       "      <td>10018531</td>\n",
       "      <td>15/02/2023</td>\n",
       "      <td>O</td>\n",
       "      <td>10101012</td>\n",
       "      <td>Consulta Em Consultorio (No Horario Normal Ou ...</td>\n",
       "      <td>NaN</td>\n",
       "    </tr>\n",
       "    <tr>\n",
       "      <th>1</th>\n",
       "      <td>222</td>\n",
       "      <td>5</td>\n",
       "      <td>5247</td>\n",
       "      <td>2222455001037019</td>\n",
       "      <td>1</td>\n",
       "      <td>257</td>\n",
       "      <td>75</td>\n",
       "      <td>1</td>\n",
       "      <td>NaN</td>\n",
       "      <td>10353541</td>\n",
       "      <td>...</td>\n",
       "      <td>65.0</td>\n",
       "      <td>NaN</td>\n",
       "      <td>NaN</td>\n",
       "      <td>N</td>\n",
       "      <td>10018531</td>\n",
       "      <td>15/02/2023</td>\n",
       "      <td>O</td>\n",
       "      <td>10101012</td>\n",
       "      <td>Consulta Em Consultorio (No Horario Normal Ou ...</td>\n",
       "      <td>NaN</td>\n",
       "    </tr>\n",
       "    <tr>\n",
       "      <th>2</th>\n",
       "      <td>222</td>\n",
       "      <td>5</td>\n",
       "      <td>5247</td>\n",
       "      <td>2222455000951000</td>\n",
       "      <td>0</td>\n",
       "      <td>257</td>\n",
       "      <td>75</td>\n",
       "      <td>1</td>\n",
       "      <td>NaN</td>\n",
       "      <td>10353072</td>\n",
       "      <td>...</td>\n",
       "      <td>65.0</td>\n",
       "      <td>NaN</td>\n",
       "      <td>NaN</td>\n",
       "      <td>N</td>\n",
       "      <td>10018531</td>\n",
       "      <td>15/02/2023</td>\n",
       "      <td>O</td>\n",
       "      <td>10101012</td>\n",
       "      <td>Consulta Em Consultorio (No Horario Normal Ou ...</td>\n",
       "      <td>NaN</td>\n",
       "    </tr>\n",
       "  </tbody>\n",
       "</table>\n",
       "<p>3 rows × 29 columns</p>\n",
       "</div>"
      ],
      "text/plain": [
       "   CD_EMPRESA  CD_ARQUIVO  CONTRATO_USUARIO           USUARIO  DEPENDENCIA  \\\n",
       "0         222           5              4429  2223159000126017            1   \n",
       "1         222           5              5247  2222455001037019            1   \n",
       "2         222           5              5247  2222455000951000            0   \n",
       "\n",
       "   CD_PLANO  CD_PRESTADOR_EXECUTOR  TP_REDE  NM_ESPECIALIDADE DOCUMENTO  ...  \\\n",
       "0       260                     75        1               NaN  10357145  ...   \n",
       "1       257                     75        1               NaN  10353541  ...   \n",
       "2       257                     75        1               NaN  10353072  ...   \n",
       "\n",
       "   VL_COPARTICIPACAO  TP_PART_PRESTADOR  CID10  INTER_COSP_TRANSF  \\\n",
       "0               65.0                NaN    NaN                  N   \n",
       "1               65.0                NaN    NaN                  N   \n",
       "2               65.0                NaN    NaN                  N   \n",
       "\n",
       "   PRESTADOR_SOLIC  DT_PAGAMENTO TP_EVENTO SERVICO_ORIGINAL  \\\n",
       "0         10018531    15/02/2023         O         10101012   \n",
       "1         10018531    15/02/2023         O         10101012   \n",
       "2         10018531    15/02/2023         O         10101012   \n",
       "\n",
       "                                    DS_SERV_ORIGINAL  DRG  \n",
       "0  Consulta Em Consultorio (No Horario Normal Ou ...  NaN  \n",
       "1  Consulta Em Consultorio (No Horario Normal Ou ...  NaN  \n",
       "2  Consulta Em Consultorio (No Horario Normal Ou ...  NaN  \n",
       "\n",
       "[3 rows x 29 columns]"
      ]
     },
     "execution_count": 3,
     "metadata": {},
     "output_type": "execute_result"
    }
   ],
   "source": [
    "df = pd.read_csv(r\"\\\\10\\usuarios$\\7035\\Desktop\\Backup Diego\\Funcional\\2023_Csv\\Funcional_Despesas_012023.csv\",delimiter=',')\n",
    "df.head(3)"
   ]
  },
  {
   "cell_type": "code",
   "execution_count": 6,
   "metadata": {},
   "outputs": [],
   "source": [
    "# Filtrar 1 item especifico de uma coluna\n",
    "usuariox = df.loc[df['USUARIO'] == 2223159000126017]"
   ]
  },
  {
   "cell_type": "code",
   "execution_count": 7,
   "metadata": {},
   "outputs": [
    {
     "data": {
      "text/html": [
       "<div>\n",
       "<style scoped>\n",
       "    .dataframe tbody tr th:only-of-type {\n",
       "        vertical-align: middle;\n",
       "    }\n",
       "\n",
       "    .dataframe tbody tr th {\n",
       "        vertical-align: top;\n",
       "    }\n",
       "\n",
       "    .dataframe thead th {\n",
       "        text-align: right;\n",
       "    }\n",
       "</style>\n",
       "<table border=\"1\" class=\"dataframe\">\n",
       "  <thead>\n",
       "    <tr style=\"text-align: right;\">\n",
       "      <th></th>\n",
       "      <th>CD_EMPRESA</th>\n",
       "      <th>CD_ARQUIVO</th>\n",
       "      <th>CONTRATO_USUARIO</th>\n",
       "      <th>USUARIO</th>\n",
       "      <th>DEPENDENCIA</th>\n",
       "      <th>CD_PLANO</th>\n",
       "      <th>CD_PRESTADOR_EXECUTOR</th>\n",
       "      <th>TP_REDE</th>\n",
       "      <th>NM_ESPECIALIDADE</th>\n",
       "      <th>DOCUMENTO</th>\n",
       "      <th>...</th>\n",
       "      <th>VL_COPARTICIPACAO</th>\n",
       "      <th>TP_PART_PRESTADOR</th>\n",
       "      <th>CID10</th>\n",
       "      <th>INTER_COSP_TRANSF</th>\n",
       "      <th>PRESTADOR_SOLIC</th>\n",
       "      <th>DT_PAGAMENTO</th>\n",
       "      <th>TP_EVENTO</th>\n",
       "      <th>SERVICO_ORIGINAL</th>\n",
       "      <th>DS_SERV_ORIGINAL</th>\n",
       "      <th>DRG</th>\n",
       "    </tr>\n",
       "  </thead>\n",
       "  <tbody>\n",
       "    <tr>\n",
       "      <th>0</th>\n",
       "      <td>222</td>\n",
       "      <td>5</td>\n",
       "      <td>4429</td>\n",
       "      <td>2223159000126017</td>\n",
       "      <td>1</td>\n",
       "      <td>260</td>\n",
       "      <td>75</td>\n",
       "      <td>1</td>\n",
       "      <td>NaN</td>\n",
       "      <td>10357145</td>\n",
       "      <td>...</td>\n",
       "      <td>65.0</td>\n",
       "      <td>NaN</td>\n",
       "      <td>NaN</td>\n",
       "      <td>N</td>\n",
       "      <td>10018531</td>\n",
       "      <td>15/02/2023</td>\n",
       "      <td>O</td>\n",
       "      <td>10101012</td>\n",
       "      <td>Consulta Em Consultorio (No Horario Normal Ou ...</td>\n",
       "      <td>NaN</td>\n",
       "    </tr>\n",
       "    <tr>\n",
       "      <th>2518</th>\n",
       "      <td>222</td>\n",
       "      <td>5</td>\n",
       "      <td>4429</td>\n",
       "      <td>2223159000126017</td>\n",
       "      <td>1</td>\n",
       "      <td>260</td>\n",
       "      <td>186</td>\n",
       "      <td>1</td>\n",
       "      <td>NaN</td>\n",
       "      <td>10344686</td>\n",
       "      <td>...</td>\n",
       "      <td>65.0</td>\n",
       "      <td>NaN</td>\n",
       "      <td>NaN</td>\n",
       "      <td>N</td>\n",
       "      <td>10015591</td>\n",
       "      <td>15/02/2023</td>\n",
       "      <td>O</td>\n",
       "      <td>10101012</td>\n",
       "      <td>Consulta Em Consultorio (No Horario Normal Ou ...</td>\n",
       "      <td>NaN</td>\n",
       "    </tr>\n",
       "    <tr>\n",
       "      <th>57034</th>\n",
       "      <td>222</td>\n",
       "      <td>5</td>\n",
       "      <td>4429</td>\n",
       "      <td>2223159000126017</td>\n",
       "      <td>1</td>\n",
       "      <td>260</td>\n",
       "      <td>75</td>\n",
       "      <td>1</td>\n",
       "      <td>NaN</td>\n",
       "      <td>10357154</td>\n",
       "      <td>...</td>\n",
       "      <td>0.0</td>\n",
       "      <td>NaN</td>\n",
       "      <td>NaN</td>\n",
       "      <td>N</td>\n",
       "      <td>10018531</td>\n",
       "      <td>15/02/2023</td>\n",
       "      <td>O</td>\n",
       "      <td>40901297</td>\n",
       "      <td>Obstétrica 1º Trimestre (Endovaginal)</td>\n",
       "      <td>NaN</td>\n",
       "    </tr>\n",
       "  </tbody>\n",
       "</table>\n",
       "<p>3 rows × 29 columns</p>\n",
       "</div>"
      ],
      "text/plain": [
       "       CD_EMPRESA  CD_ARQUIVO  CONTRATO_USUARIO           USUARIO  \\\n",
       "0             222           5              4429  2223159000126017   \n",
       "2518          222           5              4429  2223159000126017   \n",
       "57034         222           5              4429  2223159000126017   \n",
       "\n",
       "       DEPENDENCIA  CD_PLANO  CD_PRESTADOR_EXECUTOR  TP_REDE  \\\n",
       "0                1       260                     75        1   \n",
       "2518             1       260                    186        1   \n",
       "57034            1       260                     75        1   \n",
       "\n",
       "       NM_ESPECIALIDADE DOCUMENTO  ...  VL_COPARTICIPACAO  TP_PART_PRESTADOR  \\\n",
       "0                   NaN  10357145  ...               65.0                NaN   \n",
       "2518                NaN  10344686  ...               65.0                NaN   \n",
       "57034               NaN  10357154  ...                0.0                NaN   \n",
       "\n",
       "       CID10  INTER_COSP_TRANSF  PRESTADOR_SOLIC  DT_PAGAMENTO TP_EVENTO  \\\n",
       "0        NaN                  N         10018531    15/02/2023         O   \n",
       "2518     NaN                  N         10015591    15/02/2023         O   \n",
       "57034    NaN                  N         10018531    15/02/2023         O   \n",
       "\n",
       "      SERVICO_ORIGINAL                                   DS_SERV_ORIGINAL  DRG  \n",
       "0             10101012  Consulta Em Consultorio (No Horario Normal Ou ...  NaN  \n",
       "2518          10101012  Consulta Em Consultorio (No Horario Normal Ou ...  NaN  \n",
       "57034         40901297              Obstétrica 1º Trimestre (Endovaginal)  NaN  \n",
       "\n",
       "[3 rows x 29 columns]"
      ]
     },
     "execution_count": 7,
     "metadata": {},
     "output_type": "execute_result"
    }
   ],
   "source": [
    "usuariox"
   ]
  },
  {
   "cell_type": "code",
   "execution_count": null,
   "metadata": {},
   "outputs": [],
   "source": [
    "df"
   ]
  },
  {
   "cell_type": "code",
   "execution_count": null,
   "metadata": {},
   "outputs": [],
   "source": [
    "# escolher contratos especificos\n",
    "contratos = [4429, 5247, 3827]\n",
    "Df_contratos = df.loc[df['CONTRATO_USUARIO'].isin(contratos)]\n",
    "Df_contratos\n"
   ]
  },
  {
   "cell_type": "code",
   "execution_count": null,
   "metadata": {},
   "outputs": [],
   "source": [
    "Df_estados2 = df.loc[df['state'].isin(['Rio de Janeiro','Ceará', 'Rondônia','Bahia','Ceará', 'Rondônia','Bahia','Ceará',    \n",
    "                                       'Rondônia','Bahia','Ceará', 'Rondônia','Bahia','Ceará', 'Rondônia','Bahia','Ceará',  \n",
    "                                       'Rondônia','Bahia','Ceará', 'Rondônia','Bahia','Ceará', 'Rondônia','Bahia','Ceará',  \n",
    "                                       'Rondônia','Bahia'])]\n",
    "Df_estados2"
   ]
  },
  {
   "attachments": {},
   "cell_type": "markdown",
   "metadata": {},
   "source": [
    "#### Tratando Nulos"
   ]
  },
  {
   "cell_type": "code",
   "execution_count": 10,
   "metadata": {},
   "outputs": [],
   "source": [
    "#Substituir valores nulos\n",
    "df['NM_ESPECIALIDADE'] =           df['NM_ESPECIALIDADE'].fillna('Nao Informado')\n",
    "df['TP_PART_PRESTADOR'] =            df['TP_PART_PRESTADOR'].fillna('Sem Classificação')\n",
    "df['VL_COPARTICIPACAO'] =           df['VL_COPARTICIPACAO'].fillna('Sem Copp')\n",
    "df['DRG'] =      df['DRG'].fillna('Sem Info')\n"
   ]
  },
  {
   "cell_type": "code",
   "execution_count": null,
   "metadata": {},
   "outputs": [],
   "source": [
    "df"
   ]
  },
  {
   "attachments": {},
   "cell_type": "markdown",
   "metadata": {},
   "source": [
    "#### Metodo Replace"
   ]
  },
  {
   "cell_type": "code",
   "execution_count": null,
   "metadata": {},
   "outputs": [],
   "source": [
    "# Substituindo os nomes dos estados no DataFrame\n",
    "\"\"\"\n",
    "df['Coluna'] = df['coluna'].replace(valor_original, valor_substituto)\n",
    "\"\"\""
   ]
  },
  {
   "cell_type": "code",
   "execution_count": 14,
   "metadata": {},
   "outputs": [],
   "source": [
    "df['CONTRATO_USUARIO'] = df['CONTRATO_USUARIO'].replace(4429, 'SINTAD')\n",
    "df['CONTRATO_USUARIO'] = df['CONTRATO_USUARIO'].replace(5247, 'SISEMP FATURAS')\n",
    "df['CONTRATO_USUARIO'] = df['CONTRATO_USUARIO'].replace(3827, 'UNIMED PALMAS')\n"
   ]
  },
  {
   "cell_type": "code",
   "execution_count": null,
   "metadata": {},
   "outputs": [],
   "source": [
    "df.head(20)"
   ]
  },
  {
   "cell_type": "code",
   "execution_count": null,
   "metadata": {},
   "outputs": [],
   "source": [
    "# Fazendo a substituição de um valor específico\n",
    "valor_original = 3827\n",
    "valor_substituto = 'UNIMED PALMAS'\n",
    "df['CONTRATO_USUARIO'] = df['CONTRATO_USUARIO'].replace(valor_original, valor_substituto)\n"
   ]
  },
  {
   "cell_type": "code",
   "execution_count": null,
   "metadata": {},
   "outputs": [],
   "source": [
    "df.head(30)"
   ]
  },
  {
   "cell_type": "code",
   "execution_count": null,
   "metadata": {},
   "outputs": [],
   "source": [
    "# Mapeando os nomes dos estados para substituição Definitiva\n",
    "# Obs itens criados entre chves {} significa dicionario\n",
    "mapeamento = {4429: 'SINTAD', 5247: 'SISEMP FATURAS', 3827: 'UNIMED PALMAS'}\n",
    "\n",
    "# Substituindo os nomes dos estados no DataFrame\n",
    "df['CONTRATO_USUARIO'] = df['CONTRATO_USUARIO'].replace(mapeamento)\n"
   ]
  },
  {
   "cell_type": "code",
   "execution_count": null,
   "metadata": {},
   "outputs": [],
   "source": [
    "df.head(30)"
   ]
  }
 ],
 "metadata": {
  "kernelspec": {
   "display_name": "Python 3",
   "language": "python",
   "name": "python3"
  },
  "language_info": {
   "codemirror_mode": {
    "name": "ipython",
    "version": 3
   },
   "file_extension": ".py",
   "mimetype": "text/x-python",
   "name": "python",
   "nbconvert_exporter": "python",
   "pygments_lexer": "ipython3",
   "version": "3.11.4"
  },
  "orig_nbformat": 4
 },
 "nbformat": 4,
 "nbformat_minor": 2
}
