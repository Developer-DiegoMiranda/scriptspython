{
 "cells": [
  {
   "cell_type": "code",
   "execution_count": 4,
   "metadata": {},
   "outputs": [],
   "source": [
    "import pandas as pd\n",
    "import os"
   ]
  },
  {
   "cell_type": "code",
   "execution_count": 5,
   "metadata": {},
   "outputs": [],
   "source": [
    "# Arquivos para Consolidação\n",
    "Despesas012023 = pd.read_excel(r\"\\\\10\\usuarios$\\7035\\Desktop\\Backup Diego\\Funcional\\2023_Xlsx\\Despesas_012023.xlsx\")\n",
    "Despesas022023 = pd.read_excel(r\"\\\\10\\usuarios$\\7035\\Desktop\\Backup Diego\\Funcional\\2023_Xlsx\\Despesas_022023.xlsx\")\n",
    "Despesas032023 = pd.read_excel(r\"\\\\10\\usuarios$\\7035\\Desktop\\Backup Diego\\Funcional\\2023_Xlsx\\Despesas_032023.xlsx\")"
   ]
  },
  {
   "cell_type": "code",
   "execution_count": null,
   "metadata": {},
   "outputs": [],
   "source": [
    "Despesas012023.head(3)"
   ]
  },
  {
   "cell_type": "code",
   "execution_count": null,
   "metadata": {},
   "outputs": [],
   "source": [
    "Despesas022023.head(3)"
   ]
  },
  {
   "cell_type": "code",
   "execution_count": null,
   "metadata": {},
   "outputs": [],
   "source": [
    "Despesas032023.head(3)"
   ]
  },
  {
   "attachments": {},
   "cell_type": "markdown",
   "metadata": {},
   "source": [
    "### Consolidando arquivos de uma pasta"
   ]
  },
  {
   "cell_type": "code",
   "execution_count": 6,
   "metadata": {},
   "outputs": [
    {
     "data": {
      "text/html": [
       "<div>\n",
       "<style scoped>\n",
       "    .dataframe tbody tr th:only-of-type {\n",
       "        vertical-align: middle;\n",
       "    }\n",
       "\n",
       "    .dataframe tbody tr th {\n",
       "        vertical-align: top;\n",
       "    }\n",
       "\n",
       "    .dataframe thead th {\n",
       "        text-align: right;\n",
       "    }\n",
       "</style>\n",
       "<table border=\"1\" class=\"dataframe\">\n",
       "  <thead>\n",
       "    <tr style=\"text-align: right;\">\n",
       "      <th></th>\n",
       "      <th>CD_EMPRESA</th>\n",
       "      <th>CD_ARQUIVO</th>\n",
       "      <th>CONTRATO_USUARIO</th>\n",
       "      <th>USUARIO</th>\n",
       "      <th>DEPENDENCIA</th>\n",
       "      <th>CD_PLANO</th>\n",
       "      <th>CD_PRESTADOR_EXECUTOR</th>\n",
       "      <th>TP_REDE</th>\n",
       "      <th>NM_ESPECIALIDADE</th>\n",
       "      <th>DOCUMENTO</th>\n",
       "      <th>...</th>\n",
       "      <th>VL_COPARTICIPACAO</th>\n",
       "      <th>TP_PART_PRESTADOR</th>\n",
       "      <th>CID10</th>\n",
       "      <th>INTER_COSP_TRANSF</th>\n",
       "      <th>PRESTADOR_SOLIC</th>\n",
       "      <th>DT_PAGAMENTO</th>\n",
       "      <th>TP_EVENTO</th>\n",
       "      <th>SERVICO_ORIGINAL</th>\n",
       "      <th>DS_SERV_ORIGINAL</th>\n",
       "      <th>DRG</th>\n",
       "    </tr>\n",
       "  </thead>\n",
       "  <tbody>\n",
       "    <tr>\n",
       "      <th>0</th>\n",
       "      <td>222</td>\n",
       "      <td>5</td>\n",
       "      <td>4429</td>\n",
       "      <td>2223159000126017</td>\n",
       "      <td>1</td>\n",
       "      <td>260</td>\n",
       "      <td>75</td>\n",
       "      <td>1</td>\n",
       "      <td>NaN</td>\n",
       "      <td>10357145</td>\n",
       "      <td>...</td>\n",
       "      <td>65.0</td>\n",
       "      <td>NaN</td>\n",
       "      <td>NaN</td>\n",
       "      <td>N</td>\n",
       "      <td>10018531.0</td>\n",
       "      <td>15/02/2023</td>\n",
       "      <td>O</td>\n",
       "      <td>10101012</td>\n",
       "      <td>Consulta Em Consultorio (No Horario Normal Ou ...</td>\n",
       "      <td>NaN</td>\n",
       "    </tr>\n",
       "    <tr>\n",
       "      <th>1</th>\n",
       "      <td>222</td>\n",
       "      <td>5</td>\n",
       "      <td>5247</td>\n",
       "      <td>2222455001037019</td>\n",
       "      <td>1</td>\n",
       "      <td>257</td>\n",
       "      <td>75</td>\n",
       "      <td>1</td>\n",
       "      <td>NaN</td>\n",
       "      <td>10353541</td>\n",
       "      <td>...</td>\n",
       "      <td>65.0</td>\n",
       "      <td>NaN</td>\n",
       "      <td>NaN</td>\n",
       "      <td>N</td>\n",
       "      <td>10018531.0</td>\n",
       "      <td>15/02/2023</td>\n",
       "      <td>O</td>\n",
       "      <td>10101012</td>\n",
       "      <td>Consulta Em Consultorio (No Horario Normal Ou ...</td>\n",
       "      <td>NaN</td>\n",
       "    </tr>\n",
       "    <tr>\n",
       "      <th>2</th>\n",
       "      <td>222</td>\n",
       "      <td>5</td>\n",
       "      <td>5247</td>\n",
       "      <td>2222455000951000</td>\n",
       "      <td>0</td>\n",
       "      <td>257</td>\n",
       "      <td>75</td>\n",
       "      <td>1</td>\n",
       "      <td>NaN</td>\n",
       "      <td>10353072</td>\n",
       "      <td>...</td>\n",
       "      <td>65.0</td>\n",
       "      <td>NaN</td>\n",
       "      <td>NaN</td>\n",
       "      <td>N</td>\n",
       "      <td>10018531.0</td>\n",
       "      <td>15/02/2023</td>\n",
       "      <td>O</td>\n",
       "      <td>10101012</td>\n",
       "      <td>Consulta Em Consultorio (No Horario Normal Ou ...</td>\n",
       "      <td>NaN</td>\n",
       "    </tr>\n",
       "  </tbody>\n",
       "</table>\n",
       "<p>3 rows × 29 columns</p>\n",
       "</div>"
      ],
      "text/plain": [
       "   CD_EMPRESA  CD_ARQUIVO  CONTRATO_USUARIO           USUARIO  DEPENDENCIA  \\\n",
       "0         222           5              4429  2223159000126017            1   \n",
       "1         222           5              5247  2222455001037019            1   \n",
       "2         222           5              5247  2222455000951000            0   \n",
       "\n",
       "   CD_PLANO  CD_PRESTADOR_EXECUTOR  TP_REDE  NM_ESPECIALIDADE DOCUMENTO  ...  \\\n",
       "0       260                     75        1               NaN  10357145  ...   \n",
       "1       257                     75        1               NaN  10353541  ...   \n",
       "2       257                     75        1               NaN  10353072  ...   \n",
       "\n",
       "   VL_COPARTICIPACAO  TP_PART_PRESTADOR  CID10  INTER_COSP_TRANSF  \\\n",
       "0               65.0                NaN    NaN                  N   \n",
       "1               65.0                NaN    NaN                  N   \n",
       "2               65.0                NaN    NaN                  N   \n",
       "\n",
       "   PRESTADOR_SOLIC  DT_PAGAMENTO TP_EVENTO SERVICO_ORIGINAL  \\\n",
       "0       10018531.0    15/02/2023         O         10101012   \n",
       "1       10018531.0    15/02/2023         O         10101012   \n",
       "2       10018531.0    15/02/2023         O         10101012   \n",
       "\n",
       "                                    DS_SERV_ORIGINAL  DRG  \n",
       "0  Consulta Em Consultorio (No Horario Normal Ou ...  NaN  \n",
       "1  Consulta Em Consultorio (No Horario Normal Ou ...  NaN  \n",
       "2  Consulta Em Consultorio (No Horario Normal Ou ...  NaN  \n",
       "\n",
       "[3 rows x 29 columns]"
      ]
     },
     "execution_count": 6,
     "metadata": {},
     "output_type": "execute_result"
    }
   ],
   "source": [
    "\n",
    "# Diretório dos arquivos Excel\n",
    "diretorio = (r\"\\\\10\\usuarios$\\7035\\Desktop\\Backup Diego\\Funcional\\2023_Xlsx\")\n",
    "\n",
    "# Lista para armazenar os dados dos arquivos\n",
    "dados = []\n",
    "\n",
    "# Iterar sobre os arquivos Excel no diretório\n",
    "for arquivo in os.listdir(diretorio):\n",
    "    if arquivo.endswith('.xlsx'):\n",
    "        caminho_arquivo = os.path.join(diretorio, arquivo)\n",
    "        df = pd.read_excel(caminho_arquivo)\n",
    "        dados.append(df)\n",
    "\n",
    "# Consolidar os dados em um único DataFrame\n",
    "consolidado = pd.concat(dados)\n",
    "consolidado.head(3)\n",
    "\n"
   ]
  },
  {
   "attachments": {},
   "cell_type": "markdown",
   "metadata": {},
   "source": [
    "##### Salvando consolidado em uma pasta especifica Formato Excel"
   ]
  },
  {
   "cell_type": "code",
   "execution_count": null,
   "metadata": {},
   "outputs": [],
   "source": [
    "\n",
    "# Salvar arquivos consolidados em Excel Xlsx, mas só compensa para arquivos pequenos, pois no formato Excel tem limites de linhas.\n",
    "# Se for arquivos muito grandes, melhor salvar em CSV, conforme codigo acima, que nao tem limite\n",
    "\n",
    "# Defina o número máximo de linhas por planilha\n",
    "max_linhas_por_planilha = 1000000  # Este é um exemplo, você pode ajustar conforme necessário\n",
    "\n",
    "# Dividir o DataFrame em partes menores\n",
    "partes = np.array_split(consolidado, len(consolidado) // max_linhas_por_planilha + 1)\n",
    "\n",
    "# Pasta de destino\n",
    "pasta_destino = r\"\\\\10.8.0.37\\usuarios$\\107035\\Desktop\\Backup Diego\\Funcional\\2023_Geral\"\n",
    "\n",
    "# Nome do arquivo Excel\n",
    "nome_arquivo_excel = 'Geral2023.xlsx'\n",
    "\n",
    "# Caminho completo do arquivo Excel\n",
    "caminho_completo_excel = f\"{pasta_destino}\\\\{nome_arquivo_excel}\"\n",
    "\n",
    "# Salvar cada parte como uma planilha separada no arquivo Excel\n",
    "with pd.ExcelWriter(caminho_completo_excel, engine='openpyxl') as writer:\n",
    "    for i, parte in enumerate(partes):\n",
    "        parte_nome_planilha = f'Planilha_{i+1}'\n",
    "        parte.to_excel(writer, sheet_name=parte_nome_planilha, index=False)\n",
    "\n",
    "\n"
   ]
  },
  {
   "attachments": {},
   "cell_type": "markdown",
   "metadata": {},
   "source": [
    "##### Salvando consolidado em uma pasta especifica Formato CSV"
   ]
  },
  {
   "cell_type": "code",
   "execution_count": 10,
   "metadata": {},
   "outputs": [],
   "source": [
    "# Caminho da pasta onde será salvo o arquivo CSV\n",
    "pasta_destino = (r\"\\\\10.8.0.37\\usuarios$\\107035\\Desktop\\Backup Diego\\Funcional\\2023_Geral\")\n",
    "# ou pasta_destino = r'\\\\10.8.0.37\\\\usuarios$\\\\107035\\\\Desktop\\\\Backup Diego\\\\Funcional\\\\2023_Geral'\n",
    "# Com aspas simples tem que adcionar mais uma barra\n",
    "\n",
    "# Nome do arquivo Excel (variável)\n",
    "nome_arquivo = 'Geral2023.csv'\n",
    "\n",
    "# Caminho completo do arquivo Excel\n",
    "Caminho_Completo = os.path.join(pasta_destino + nome_arquivo)\n",
    "\n",
    "# Salvar o DataFrame como arquivo CSV\n",
    "consolidado.to_csv(Caminho_Completo, index=False,sep=',')\n"
   ]
  },
  {
   "attachments": {},
   "cell_type": "markdown",
   "metadata": {},
   "source": [
    "##### Salvando consolidado em uma pasta especifica Formato TXT"
   ]
  },
  {
   "cell_type": "code",
   "execution_count": null,
   "metadata": {},
   "outputs": [],
   "source": [
    "\n",
    "# Caminho da pasta onde será salvo o arquivo Excel\n",
    "pasta_destino = (r\"\\\\10.8.0.37\\usuarios$\\107035\\Desktop\\Backup Diego\\Funcional\\2023_Geral\")\n",
    "# ou pasta_destino = r'\\\\10.8.0.37\\\\usuarios$\\\\107035\\\\Desktop\\\\Backup Diego\\\\Funcional\\\\2023_Geral'\n",
    "# Com aspas simples tem que adcionar mais uma barra\n",
    "\n",
    "# Nome do arquivo Excel (variável)\n",
    "nome_arquivo = 'Geral2023.txt'\n",
    "\n",
    "# Caminho completo do arquivo Excel\n",
    "Caminho_Completo = os.path.join(pasta_destino + nome_arquivo)\n",
    "\n",
    "# Salvar o DataFrame como arquivo Excel\n",
    "consolidado.to_csv(Caminho_Completo, index=False,sep=',')"
   ]
  },
  {
   "attachments": {},
   "cell_type": "markdown",
   "metadata": {},
   "source": [
    "###                             Salvando"
   ]
  },
  {
   "cell_type": "code",
   "execution_count": null,
   "metadata": {},
   "outputs": [],
   "source": [
    "# bibliotecas\n",
    "import pandas as pd\n",
    "import os\n",
    "\n",
    "# Diretório dos arquivos CSV\n",
    "diretorio = (r\"\\\\10\\usuarios$\\7035\\Desktop\\Backup Diego\\Funcional\\2023_Xlsx\")\n",
    "\n",
    "# Lista para armazenar os dados dos arquivos\n",
    "dados = []\n",
    "\n",
    "# Iterar sobre os arquivos Excel no diretório\n",
    "for arquivo in os.listdir(diretorio):                        # loop na pasta (diretório)\n",
    "    if arquivo.endswith('.xlsx'):                            # achar somente arquivos excel\n",
    "        caminho_arquivo = os.path.join(diretorio, arquivo)   # pecorrer cada arquivo \n",
    "        df = pd.read_excel(caminho_arquivo)                  # ler os dados \n",
    "        dados.append(df)                                     # armazenar na ultima linh 1 a 1 dos arquivos\n",
    "\n",
    "# Consolidar os dados em um único DataFrame\n",
    "consolidado = pd.concat(dados)\n",
    "consolidado.head()\n"
   ]
  }
 ],
 "metadata": {
  "kernelspec": {
   "display_name": "Python 3",
   "language": "python",
   "name": "python3"
  },
  "language_info": {
   "codemirror_mode": {
    "name": "ipython",
    "version": 3
   },
   "file_extension": ".py",
   "mimetype": "text/x-python",
   "name": "python",
   "nbconvert_exporter": "python",
   "pygments_lexer": "ipython3",
   "version": "3.11.4"
  },
  "orig_nbformat": 4
 },
 "nbformat": 4,
 "nbformat_minor": 2
}
